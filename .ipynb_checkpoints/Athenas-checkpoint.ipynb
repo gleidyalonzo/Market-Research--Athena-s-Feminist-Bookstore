{
 "cells": [
  {
   "cell_type": "markdown",
   "id": "c1c24170",
   "metadata": {
    "cell_style": "center"
   },
   "source": [
    "\n",
    "#                                Athena's Feminints Bookstore\n",
    "\n",
    "\n",
    "\n",
    "**Project Goals:**\n",
    "\n",
    "1.\tHelp Athena's Story create successful campaign in March.\n",
    "2.\tUse customer survey data to understand their target audience and their preferences for feminist books.\n",
    "3.\tUse historical sales data to identify the most profitable genres for Athena's Story, including feminist fiction and biographies of inspiring women, as well as newer genres such as children's literature and feminist zines.\n",
    "\n",
    "**Objectives:**\n",
    "\n",
    "1.\tAnalyze the customer survey data to understand the target audience's preferences for feminist books and their likelihood of purchasing books during Women's History Month.\n",
    "2.\tAnalyze the historical sales data to identify patterns and trends in the most profitable genres and to determine the potential for growth in newer genres.\n",
    "3.\tProvide recommendations on which types of books to focus on during the campaign, based on the survey and sales data analysis.\n",
    "\n",
    "\n",
    "## Data Documentation\n",
    "\n",
    "Customer Survey Dataset The dataset is a collection of responses to a survey about Women's History Month (WHM) celebrations. The survey had six questions, and the responses were collected from an unknown number of participants.\n",
    "\n",
    "- Q1 ask whether the participants planned to celebrate WHM. Possible answers were \"Yes\" or \"No.\" \n",
    "- Q2 is a follow up from Q1. Q2 is open-ended,ask participants whether they planned to celebrate WHM.\n",
    "- Q3 ask whether the participants purchased feminist books in honor of WHM, either for themselves or as a gift for someone else. Possible answers were \"Yes\" or \"No.\" \n",
    "- Q4 is a follow up to Q3.Participants were asked how many books they typically purchase during March. Possible answers were \"1,\" \"2-Mar,\" \"4 or more.\"\n",
    "- Q5 is an open-ended question. Participants were asked what liked most about Athena's Story. The respondents were asked to write their answers.\n",
    "\n",
    "- Q6 asked what types of books the respondents would like to see more of at Athena's Story. The respondents were asked to write their answers, and the possible answers were \"Feminist fiction,\" \"Feminist zines,\" \"Feminist poetry,\" \"Feminist novels and essays,\" \"Women's history books,\" \"Biographies of inspirational women,\" \"Women's journals,\" and \"Feminist science fiction.\"\n",
    "\n",
    "Questions 1 to 3 aim to determine how respondents engage with Women's History Month celebrations, while questions 4 and 5 aim to understand respondents' purchasing behaviors during Women's History Month. Question 6 is about respondents' genre preferences for products.\n",
    "\n",
    "*Limitations*\n",
    "\n",
    "\n",
    "- Sample size: The sample size is small and the result might not be representative of the entire population.\n",
    "\n",
    "- Self-reported data: The answers were self reported, therefore there could be biases or inaccuracies in the responses.\n",
    "\n",
    "- Limited survey questions: The survey only consists of six questions,  and there's could be missing context of the respondent's behavior and attitudes.\n",
    "\n",
    "- Lack of demographic information: The dataset does not include information about the respondent's demographic characteristics. \n",
    "\n",
    "- Limited context: The data does not provide respondents' information such as geographic location, socioeconomic status, or cultural background, which may impact their attitudes and behaviors towards Women's History Month.\n",
    "\n",
    "Historical Sales Dataset consist of the sales of four different genres of products (Feminist Fiction, Biographies Children's Literature, and Feminist Zines) per week for a period of 52 weeks. The sales are in USD and are shown for each week.\n",
    "\n",
    "We can use this dataset to analyze the sales trends of the different products and determine which ones are more popular. We can also use this data to predict future sales and determine whether there are any seasonal trends or patterns. Additionally, we can compare the sales of different genres and determine which ones are growing in popularity or declining. Overall, this dataset can provide valuable insights into the book market and consumer preferences.\n",
    "Customer Survey \n",
    "\n",
    "*Limitations*\n",
    " \n",
    "- Short time frame: The dataset covers 52 weeks, which may not be sufficient to identify long-term trends or seasonal patterns. It is also possible that the sales patterns in this dataset are unique to this particular year and may not be representative of other years.\n",
    "\n",
    "- Missing data: There are missing data points in the dataset, such as the missing values in the sales of Feminist Zines in Week 46. This missing data may affect the accuracy of any analysis or conclusions drawn from the dataset.\n",
    "\n",
    "- No indication of sample size or representativeness: There is no information provided about the sample size of the data or how it was collected. It is also not clear if the dataset is representative of a larger population or if it is a sample of specific stores or locations. Without this information, it is difficult to determine the generalizability of the findings\n"
   ]
  },
  {
   "cell_type": "markdown",
   "id": "4f5918fd",
   "metadata": {},
   "source": [
    "## Data Cleaning and Processing"
   ]
  },
  {
   "cell_type": "code",
   "execution_count": 14,
   "id": "c1fafbb4",
   "metadata": {
    "code_folding": []
   },
   "outputs": [],
   "source": [
    "#libraries\n",
    "import pandas as pd\n",
    "import matplotlib.pyplot as plt\n",
    "import numpy as np\n",
    "import seaborn as sns\n",
    "\n",
    "#Reading the CustomerSurvey.csv file and storing it in the variable 'customer_survey'\n",
    "cust_survey = pd.read_csv(\"./data/CustomerSurvey.csv\")\n",
    "\n",
    "#Reading the Historical Sales.csv file and storing it in the variable 'hist_sales'\n",
    "hist_sales = pd.read_csv(\"./data/Historical Sales.csv\")"
   ]
  },
  {
   "cell_type": "code",
   "execution_count": 15,
   "id": "8d85bf02",
   "metadata": {
    "code_folding": []
   },
   "outputs": [
    {
     "data": {
      "text/html": [
       "<div>\n",
       "<style scoped>\n",
       "    .dataframe tbody tr th:only-of-type {\n",
       "        vertical-align: middle;\n",
       "    }\n",
       "\n",
       "    .dataframe tbody tr th {\n",
       "        vertical-align: top;\n",
       "    }\n",
       "\n",
       "    .dataframe thead th {\n",
       "        text-align: right;\n",
       "    }\n",
       "</style>\n",
       "<table border=\"1\" class=\"dataframe\">\n",
       "  <thead>\n",
       "    <tr style=\"text-align: right;\">\n",
       "      <th></th>\n",
       "      <th>Week</th>\n",
       "      <th>Product 1 (Feminist Fiction) sales per week</th>\n",
       "      <th>Product 2 (Biographies) sales per week</th>\n",
       "      <th>NEW genre (Children's Literature) sales per week</th>\n",
       "      <th>NEW genre (Feminist Zines) sales per week</th>\n",
       "    </tr>\n",
       "  </thead>\n",
       "  <tbody>\n",
       "    <tr>\n",
       "      <th>0</th>\n",
       "      <td>1</td>\n",
       "      <td>$407.33</td>\n",
       "      <td>$318.78</td>\n",
       "      <td>$106.26</td>\n",
       "      <td>$99.08</td>\n",
       "    </tr>\n",
       "    <tr>\n",
       "      <th>1</th>\n",
       "      <td>2</td>\n",
       "      <td>$345.44</td>\n",
       "      <td>$270.35</td>\n",
       "      <td>$90.12</td>\n",
       "      <td>$84.03</td>\n",
       "    </tr>\n",
       "    <tr>\n",
       "      <th>2</th>\n",
       "      <td>3</td>\n",
       "      <td>$294.33</td>\n",
       "      <td>$230.35</td>\n",
       "      <td>$76.78</td>\n",
       "      <td>$71.59</td>\n",
       "    </tr>\n",
       "    <tr>\n",
       "      <th>3</th>\n",
       "      <td>4</td>\n",
       "      <td>$371.56</td>\n",
       "      <td>$290.78</td>\n",
       "      <td>$96.93</td>\n",
       "      <td>$90.38</td>\n",
       "    </tr>\n",
       "    <tr>\n",
       "      <th>4</th>\n",
       "      <td>5</td>\n",
       "      <td>$314.33</td>\n",
       "      <td>$246.00</td>\n",
       "      <td>$82.00</td>\n",
       "      <td>$76.46</td>\n",
       "    </tr>\n",
       "    <tr>\n",
       "      <th>5</th>\n",
       "      <td>6</td>\n",
       "      <td>$374.89</td>\n",
       "      <td>$293.39</td>\n",
       "      <td>$97.80</td>\n",
       "      <td>$91.19</td>\n",
       "    </tr>\n",
       "    <tr>\n",
       "      <th>6</th>\n",
       "      <td>7</td>\n",
       "      <td>$365.00</td>\n",
       "      <td>$285.65</td>\n",
       "      <td>$95.22</td>\n",
       "      <td>$88.78</td>\n",
       "    </tr>\n",
       "    <tr>\n",
       "      <th>7</th>\n",
       "      <td>8</td>\n",
       "      <td>$409.44</td>\n",
       "      <td>$320.43</td>\n",
       "      <td>$106.81</td>\n",
       "      <td>$99.59</td>\n",
       "    </tr>\n",
       "    <tr>\n",
       "      <th>8</th>\n",
       "      <td>9</td>\n",
       "      <td>$329.78</td>\n",
       "      <td>$258.09</td>\n",
       "      <td>$86.03</td>\n",
       "      <td>$80.22</td>\n",
       "    </tr>\n",
       "    <tr>\n",
       "      <th>9</th>\n",
       "      <td>10</td>\n",
       "      <td>$379.11</td>\n",
       "      <td>$296.70</td>\n",
       "      <td>$98.90</td>\n",
       "      <td>$92.22</td>\n",
       "    </tr>\n",
       "  </tbody>\n",
       "</table>\n",
       "</div>"
      ],
      "text/plain": [
       "   Week Product 1 (Feminist Fiction) sales per week  \\\n",
       "0     1                                     $407.33   \n",
       "1     2                                     $345.44   \n",
       "2     3                                     $294.33   \n",
       "3     4                                     $371.56   \n",
       "4     5                                     $314.33   \n",
       "5     6                                     $374.89   \n",
       "6     7                                     $365.00   \n",
       "7     8                                     $409.44   \n",
       "8     9                                     $329.78   \n",
       "9    10                                     $379.11   \n",
       "\n",
       "  Product 2 (Biographies) sales per week  \\\n",
       "0                                $318.78   \n",
       "1                                $270.35   \n",
       "2                                $230.35   \n",
       "3                                $290.78   \n",
       "4                                $246.00   \n",
       "5                                $293.39   \n",
       "6                                $285.65   \n",
       "7                                $320.43   \n",
       "8                                $258.09   \n",
       "9                                $296.70   \n",
       "\n",
       "  NEW genre (Children's Literature) sales per week  \\\n",
       "0                                          $106.26   \n",
       "1                                           $90.12   \n",
       "2                                           $76.78   \n",
       "3                                           $96.93   \n",
       "4                                           $82.00   \n",
       "5                                           $97.80   \n",
       "6                                           $95.22   \n",
       "7                                          $106.81   \n",
       "8                                           $86.03   \n",
       "9                                           $98.90   \n",
       "\n",
       "  NEW genre (Feminist Zines) sales per week  \n",
       "0                                    $99.08  \n",
       "1                                    $84.03  \n",
       "2                                    $71.59  \n",
       "3                                    $90.38  \n",
       "4                                    $76.46  \n",
       "5                                    $91.19  \n",
       "6                                    $88.78  \n",
       "7                                    $99.59  \n",
       "8                                    $80.22  \n",
       "9                                    $92.22  "
      ]
     },
     "execution_count": 15,
     "metadata": {},
     "output_type": "execute_result"
    }
   ],
   "source": [
    "#View first 10 rows of hist_sale\n",
    "hist_sales.head(n=10)"
   ]
  },
  {
   "cell_type": "code",
   "execution_count": 16,
   "id": "5c46561d",
   "metadata": {
    "code_folding": []
   },
   "outputs": [
    {
     "data": {
      "text/html": [
       "<div>\n",
       "<style scoped>\n",
       "    .dataframe tbody tr th:only-of-type {\n",
       "        vertical-align: middle;\n",
       "    }\n",
       "\n",
       "    .dataframe tbody tr th {\n",
       "        vertical-align: top;\n",
       "    }\n",
       "\n",
       "    .dataframe thead th {\n",
       "        text-align: right;\n",
       "    }\n",
       "</style>\n",
       "<table border=\"1\" class=\"dataframe\">\n",
       "  <thead>\n",
       "    <tr style=\"text-align: right;\">\n",
       "      <th></th>\n",
       "      <th>week</th>\n",
       "      <th>fem_fict</th>\n",
       "      <th>biographies</th>\n",
       "      <th>children_lit</th>\n",
       "      <th>fem_zines</th>\n",
       "    </tr>\n",
       "  </thead>\n",
       "  <tbody>\n",
       "    <tr>\n",
       "      <th>0</th>\n",
       "      <td>1</td>\n",
       "      <td>$407.33</td>\n",
       "      <td>$318.78</td>\n",
       "      <td>$106.26</td>\n",
       "      <td>$99.08</td>\n",
       "    </tr>\n",
       "    <tr>\n",
       "      <th>1</th>\n",
       "      <td>2</td>\n",
       "      <td>$345.44</td>\n",
       "      <td>$270.35</td>\n",
       "      <td>$90.12</td>\n",
       "      <td>$84.03</td>\n",
       "    </tr>\n",
       "    <tr>\n",
       "      <th>2</th>\n",
       "      <td>3</td>\n",
       "      <td>$294.33</td>\n",
       "      <td>$230.35</td>\n",
       "      <td>$76.78</td>\n",
       "      <td>$71.59</td>\n",
       "    </tr>\n",
       "    <tr>\n",
       "      <th>3</th>\n",
       "      <td>4</td>\n",
       "      <td>$371.56</td>\n",
       "      <td>$290.78</td>\n",
       "      <td>$96.93</td>\n",
       "      <td>$90.38</td>\n",
       "    </tr>\n",
       "    <tr>\n",
       "      <th>4</th>\n",
       "      <td>5</td>\n",
       "      <td>$314.33</td>\n",
       "      <td>$246.00</td>\n",
       "      <td>$82.00</td>\n",
       "      <td>$76.46</td>\n",
       "    </tr>\n",
       "    <tr>\n",
       "      <th>5</th>\n",
       "      <td>6</td>\n",
       "      <td>$374.89</td>\n",
       "      <td>$293.39</td>\n",
       "      <td>$97.80</td>\n",
       "      <td>$91.19</td>\n",
       "    </tr>\n",
       "    <tr>\n",
       "      <th>6</th>\n",
       "      <td>7</td>\n",
       "      <td>$365.00</td>\n",
       "      <td>$285.65</td>\n",
       "      <td>$95.22</td>\n",
       "      <td>$88.78</td>\n",
       "    </tr>\n",
       "    <tr>\n",
       "      <th>7</th>\n",
       "      <td>8</td>\n",
       "      <td>$409.44</td>\n",
       "      <td>$320.43</td>\n",
       "      <td>$106.81</td>\n",
       "      <td>$99.59</td>\n",
       "    </tr>\n",
       "    <tr>\n",
       "      <th>8</th>\n",
       "      <td>9</td>\n",
       "      <td>$329.78</td>\n",
       "      <td>$258.09</td>\n",
       "      <td>$86.03</td>\n",
       "      <td>$80.22</td>\n",
       "    </tr>\n",
       "    <tr>\n",
       "      <th>9</th>\n",
       "      <td>10</td>\n",
       "      <td>$379.11</td>\n",
       "      <td>$296.70</td>\n",
       "      <td>$98.90</td>\n",
       "      <td>$92.22</td>\n",
       "    </tr>\n",
       "  </tbody>\n",
       "</table>\n",
       "</div>"
      ],
      "text/plain": [
       "   week fem_fict biographies children_lit fem_zines\n",
       "0     1  $407.33     $318.78      $106.26    $99.08\n",
       "1     2  $345.44     $270.35       $90.12    $84.03\n",
       "2     3  $294.33     $230.35       $76.78    $71.59\n",
       "3     4  $371.56     $290.78       $96.93    $90.38\n",
       "4     5  $314.33     $246.00       $82.00    $76.46\n",
       "5     6  $374.89     $293.39       $97.80    $91.19\n",
       "6     7  $365.00     $285.65       $95.22    $88.78\n",
       "7     8  $409.44     $320.43      $106.81    $99.59\n",
       "8     9  $329.78     $258.09       $86.03    $80.22\n",
       "9    10  $379.11     $296.70       $98.90    $92.22"
      ]
     },
     "execution_count": 16,
     "metadata": {},
     "output_type": "execute_result"
    }
   ],
   "source": [
    "# Let's simplify and reman the variables\n",
    "#creating list with the new variable names fro hist_sale\n",
    "histSale_col_names = [\n",
    "    'week', 'fem_fict', 'biographies', 'children_lit', 'fem_zines'\n",
    "]\n",
    "#Renaming the column names of the hist_sales dataframe using the list histSale_col_names\n",
    "hist_sales.columns = histSale_col_names\n",
    "#Viewing first 10 observations\n",
    "hist_sales.head(n=10)"
   ]
  },
  {
   "cell_type": "code",
   "execution_count": 17,
   "id": "adc89fa3",
   "metadata": {},
   "outputs": [
    {
     "name": "stdout",
     "output_type": "stream",
     "text": [
      "<class 'pandas.core.frame.DataFrame'>\n",
      "RangeIndex: 52 entries, 0 to 51\n",
      "Data columns (total 5 columns):\n",
      " #   Column        Non-Null Count  Dtype \n",
      "---  ------        --------------  ----- \n",
      " 0   week          52 non-null     int64 \n",
      " 1   fem_fict      52 non-null     object\n",
      " 2   biographies   52 non-null     object\n",
      " 3   children_lit  52 non-null     object\n",
      " 4   fem_zines     52 non-null     object\n",
      "dtypes: int64(1), object(4)\n",
      "memory usage: 2.2+ KB\n"
     ]
    }
   ],
   "source": [
    "hist_sales.info()"
   ]
  },
  {
   "cell_type": "code",
   "execution_count": 18,
   "id": "2a1d329c",
   "metadata": {
    "code_folding": [],
    "scrolled": true
   },
   "outputs": [
    {
     "name": "stdout",
     "output_type": "stream",
     "text": [
      "week              int64\n",
      "fem_fict        float64\n",
      "biographies     float64\n",
      "children_lit    float64\n",
      "fem_zines       float64\n",
      "dtype: object\n"
     ]
    }
   ],
   "source": [
    "# Remove the '$' symbol from columns 'fem_fict', 'biographies', 'children_lit', and 'fem_zines'\n",
    "cols_to_remove_dollar = [\n",
    "    'fem_fict', 'biographies', 'children_lit', 'fem_zines'\n",
    "]\n",
    "hist_sales[cols_to_remove_dollar] = hist_sales[cols_to_remove_dollar].replace(\n",
    "    '[\\$,]', '', regex=True).astype(float)  #converting datatype to float\n",
    "\n",
    "# Print the updated datatype with removed '$' symbol\n",
    "print(hist_sales.dtypes)"
   ]
  },
  {
   "cell_type": "code",
   "execution_count": 19,
   "id": "09f7038b",
   "metadata": {
    "code_folding": []
   },
   "outputs": [
    {
     "data": {
      "text/html": [
       "<div>\n",
       "<style scoped>\n",
       "    .dataframe tbody tr th:only-of-type {\n",
       "        vertical-align: middle;\n",
       "    }\n",
       "\n",
       "    .dataframe tbody tr th {\n",
       "        vertical-align: top;\n",
       "    }\n",
       "\n",
       "    .dataframe thead th {\n",
       "        text-align: right;\n",
       "    }\n",
       "</style>\n",
       "<table border=\"1\" class=\"dataframe\">\n",
       "  <thead>\n",
       "    <tr style=\"text-align: right;\">\n",
       "      <th></th>\n",
       "      <th>week</th>\n",
       "      <th>fem_fict</th>\n",
       "      <th>biographies</th>\n",
       "      <th>children_lit</th>\n",
       "      <th>fem_zines</th>\n",
       "    </tr>\n",
       "  </thead>\n",
       "  <tbody>\n",
       "    <tr>\n",
       "      <th>0</th>\n",
       "      <td>1</td>\n",
       "      <td>407.33</td>\n",
       "      <td>318.78</td>\n",
       "      <td>106.26</td>\n",
       "      <td>99.08</td>\n",
       "    </tr>\n",
       "    <tr>\n",
       "      <th>1</th>\n",
       "      <td>2</td>\n",
       "      <td>345.44</td>\n",
       "      <td>270.35</td>\n",
       "      <td>90.12</td>\n",
       "      <td>84.03</td>\n",
       "    </tr>\n",
       "    <tr>\n",
       "      <th>2</th>\n",
       "      <td>3</td>\n",
       "      <td>294.33</td>\n",
       "      <td>230.35</td>\n",
       "      <td>76.78</td>\n",
       "      <td>71.59</td>\n",
       "    </tr>\n",
       "    <tr>\n",
       "      <th>3</th>\n",
       "      <td>4</td>\n",
       "      <td>371.56</td>\n",
       "      <td>290.78</td>\n",
       "      <td>96.93</td>\n",
       "      <td>90.38</td>\n",
       "    </tr>\n",
       "    <tr>\n",
       "      <th>4</th>\n",
       "      <td>5</td>\n",
       "      <td>314.33</td>\n",
       "      <td>246.00</td>\n",
       "      <td>82.00</td>\n",
       "      <td>76.46</td>\n",
       "    </tr>\n",
       "    <tr>\n",
       "      <th>5</th>\n",
       "      <td>6</td>\n",
       "      <td>374.89</td>\n",
       "      <td>293.39</td>\n",
       "      <td>97.80</td>\n",
       "      <td>91.19</td>\n",
       "    </tr>\n",
       "    <tr>\n",
       "      <th>6</th>\n",
       "      <td>7</td>\n",
       "      <td>365.00</td>\n",
       "      <td>285.65</td>\n",
       "      <td>95.22</td>\n",
       "      <td>88.78</td>\n",
       "    </tr>\n",
       "    <tr>\n",
       "      <th>7</th>\n",
       "      <td>8</td>\n",
       "      <td>409.44</td>\n",
       "      <td>320.43</td>\n",
       "      <td>106.81</td>\n",
       "      <td>99.59</td>\n",
       "    </tr>\n",
       "    <tr>\n",
       "      <th>8</th>\n",
       "      <td>9</td>\n",
       "      <td>329.78</td>\n",
       "      <td>258.09</td>\n",
       "      <td>86.03</td>\n",
       "      <td>80.22</td>\n",
       "    </tr>\n",
       "    <tr>\n",
       "      <th>9</th>\n",
       "      <td>10</td>\n",
       "      <td>379.11</td>\n",
       "      <td>296.70</td>\n",
       "      <td>98.90</td>\n",
       "      <td>92.22</td>\n",
       "    </tr>\n",
       "  </tbody>\n",
       "</table>\n",
       "</div>"
      ],
      "text/plain": [
       "   week  fem_fict  biographies  children_lit  fem_zines\n",
       "0     1    407.33       318.78        106.26      99.08\n",
       "1     2    345.44       270.35         90.12      84.03\n",
       "2     3    294.33       230.35         76.78      71.59\n",
       "3     4    371.56       290.78         96.93      90.38\n",
       "4     5    314.33       246.00         82.00      76.46\n",
       "5     6    374.89       293.39         97.80      91.19\n",
       "6     7    365.00       285.65         95.22      88.78\n",
       "7     8    409.44       320.43        106.81      99.59\n",
       "8     9    329.78       258.09         86.03      80.22\n",
       "9    10    379.11       296.70         98.90      92.22"
      ]
     },
     "execution_count": 19,
     "metadata": {},
     "output_type": "execute_result"
    }
   ],
   "source": [
    "#View\n",
    "hist_sales.head(n=10)"
   ]
  },
  {
   "cell_type": "markdown",
   "id": "4166cae9",
   "metadata": {},
   "source": [
    "Next the customer survey dataset will be processed and cleaned"
   ]
  },
  {
   "cell_type": "code",
   "execution_count": 20,
   "id": "d341c244",
   "metadata": {
    "code_folding": []
   },
   "outputs": [
    {
     "data": {
      "text/html": [
       "<div>\n",
       "<style scoped>\n",
       "    .dataframe tbody tr th:only-of-type {\n",
       "        vertical-align: middle;\n",
       "    }\n",
       "\n",
       "    .dataframe tbody tr th {\n",
       "        vertical-align: top;\n",
       "    }\n",
       "\n",
       "    .dataframe thead th {\n",
       "        text-align: right;\n",
       "    }\n",
       "</style>\n",
       "<table border=\"1\" class=\"dataframe\">\n",
       "  <thead>\n",
       "    <tr style=\"text-align: right;\">\n",
       "      <th></th>\n",
       "      <th>Survey Q1: Do you plan to celebrate WHM?</th>\n",
       "      <th>Survey Q2: If answered \"Yes\" to Q1, how do you plan to celebrate?</th>\n",
       "      <th>Survey Q3: Do you purchase feminist books in honor of WHM, either for yourself or as a gift for someone else?</th>\n",
       "      <th>Survey Q4: If answered \"Yes\" to Q3, how many books do you typically purchase during March?</th>\n",
       "      <th>Survey Q5: What do you like most about Athena's Story?</th>\n",
       "      <th>Survey Q6: What types of books would you like to see more of at Athena's Story?</th>\n",
       "    </tr>\n",
       "  </thead>\n",
       "  <tbody>\n",
       "    <tr>\n",
       "      <th>0</th>\n",
       "      <td>Yes</td>\n",
       "      <td>Support a women’s nonprofit</td>\n",
       "      <td>No</td>\n",
       "      <td>1</td>\n",
       "      <td>All of the above</td>\n",
       "      <td>Feminist fiction</td>\n",
       "    </tr>\n",
       "    <tr>\n",
       "      <th>1</th>\n",
       "      <td>Yes</td>\n",
       "      <td>Host an event to celebrate women</td>\n",
       "      <td>Yes</td>\n",
       "      <td>2-3</td>\n",
       "      <td>Product selection relating to women's issues</td>\n",
       "      <td>Feminist zines</td>\n",
       "    </tr>\n",
       "    <tr>\n",
       "      <th>2</th>\n",
       "      <td>No</td>\n",
       "      <td>Watch movies directed by women and with female...</td>\n",
       "      <td>No</td>\n",
       "      <td>4 or more</td>\n",
       "      <td>Friendly service</td>\n",
       "      <td>Feminist poetry</td>\n",
       "    </tr>\n",
       "    <tr>\n",
       "      <th>3</th>\n",
       "      <td>Yes</td>\n",
       "      <td>Support women-owned businesses</td>\n",
       "      <td>No</td>\n",
       "      <td>1</td>\n",
       "      <td>Athena's story gives back to the local community</td>\n",
       "      <td>Feminist novels and essays</td>\n",
       "    </tr>\n",
       "    <tr>\n",
       "      <th>4</th>\n",
       "      <td>No</td>\n",
       "      <td>Spin tunes by female artists</td>\n",
       "      <td>No</td>\n",
       "      <td>1</td>\n",
       "      <td>All of the above</td>\n",
       "      <td>Biographies of inspirational women</td>\n",
       "    </tr>\n",
       "    <tr>\n",
       "      <th>5</th>\n",
       "      <td>No</td>\n",
       "      <td>Support female authors</td>\n",
       "      <td>No</td>\n",
       "      <td>2-3</td>\n",
       "      <td>Supporting a woman-owned business</td>\n",
       "      <td>Women's history books</td>\n",
       "    </tr>\n",
       "    <tr>\n",
       "      <th>6</th>\n",
       "      <td>No</td>\n",
       "      <td>Write positive affirmations on notes and hand ...</td>\n",
       "      <td>No</td>\n",
       "      <td>4 or more</td>\n",
       "      <td>Knowledgable staff recommendations</td>\n",
       "      <td>Feminist fiction</td>\n",
       "    </tr>\n",
       "    <tr>\n",
       "      <th>7</th>\n",
       "      <td>Yes</td>\n",
       "      <td>Decorate my bedroom with empowering quotes by ...</td>\n",
       "      <td>Yes</td>\n",
       "      <td>1</td>\n",
       "      <td>All of the above</td>\n",
       "      <td>Children's literature</td>\n",
       "    </tr>\n",
       "    <tr>\n",
       "      <th>8</th>\n",
       "      <td>No</td>\n",
       "      <td>Buy small gifts for my friends with messages o...</td>\n",
       "      <td>No</td>\n",
       "      <td>2-3</td>\n",
       "      <td>All of the above</td>\n",
       "      <td>Children's literature</td>\n",
       "    </tr>\n",
       "    <tr>\n",
       "      <th>9</th>\n",
       "      <td>No</td>\n",
       "      <td>Host a dinner party and have everyone go aroun...</td>\n",
       "      <td>No</td>\n",
       "      <td>1</td>\n",
       "      <td>Supporting a woman-owned business</td>\n",
       "      <td>Feminist fiction</td>\n",
       "    </tr>\n",
       "  </tbody>\n",
       "</table>\n",
       "</div>"
      ],
      "text/plain": [
       "  Survey Q1: Do you plan to celebrate WHM?   \\\n",
       "0                                       Yes   \n",
       "1                                       Yes   \n",
       "2                                        No   \n",
       "3                                       Yes   \n",
       "4                                        No   \n",
       "5                                        No   \n",
       "6                                        No   \n",
       "7                                       Yes   \n",
       "8                                        No   \n",
       "9                                        No   \n",
       "\n",
       "  Survey Q2: If answered \"Yes\" to Q1, how do you plan to celebrate?  \\\n",
       "0                        Support a women’s nonprofit                  \n",
       "1                   Host an event to celebrate women                  \n",
       "2  Watch movies directed by women and with female...                  \n",
       "3                     Support women-owned businesses                  \n",
       "4                       Spin tunes by female artists                  \n",
       "5                             Support female authors                  \n",
       "6  Write positive affirmations on notes and hand ...                  \n",
       "7  Decorate my bedroom with empowering quotes by ...                  \n",
       "8  Buy small gifts for my friends with messages o...                  \n",
       "9  Host a dinner party and have everyone go aroun...                  \n",
       "\n",
       "  Survey Q3: Do you purchase feminist books in honor of WHM, either for yourself or as a gift for someone else?  \\\n",
       "0                                                 No                                                              \n",
       "1                                                Yes                                                              \n",
       "2                                                 No                                                              \n",
       "3                                                 No                                                              \n",
       "4                                                 No                                                              \n",
       "5                                                 No                                                              \n",
       "6                                                 No                                                              \n",
       "7                                                Yes                                                              \n",
       "8                                                 No                                                              \n",
       "9                                                 No                                                              \n",
       "\n",
       "  Survey Q4: If answered \"Yes\" to Q3, how many books do you typically purchase during March?  \\\n",
       "0                                                  1                                           \n",
       "1                                                2-3                                           \n",
       "2                                          4 or more                                           \n",
       "3                                                  1                                           \n",
       "4                                                  1                                           \n",
       "5                                                2-3                                           \n",
       "6                                          4 or more                                           \n",
       "7                                                  1                                           \n",
       "8                                                2-3                                           \n",
       "9                                                  1                                           \n",
       "\n",
       "  Survey Q5: What do you like most about Athena's Story?   \\\n",
       "0                                   All of the above        \n",
       "1       Product selection relating to women's issues        \n",
       "2                                   Friendly service        \n",
       "3   Athena's story gives back to the local community        \n",
       "4                                   All of the above        \n",
       "5                  Supporting a woman-owned business        \n",
       "6                 Knowledgable staff recommendations        \n",
       "7                                   All of the above        \n",
       "8                                   All of the above        \n",
       "9                  Supporting a woman-owned business        \n",
       "\n",
       "  Survey Q6: What types of books would you like to see more of at Athena's Story?  \n",
       "0                                   Feminist fiction                               \n",
       "1                                     Feminist zines                               \n",
       "2                                    Feminist poetry                               \n",
       "3                         Feminist novels and essays                               \n",
       "4                 Biographies of inspirational women                               \n",
       "5                              Women's history books                               \n",
       "6                                   Feminist fiction                               \n",
       "7                              Children's literature                               \n",
       "8                              Children's literature                               \n",
       "9                                   Feminist fiction                               "
      ]
     },
     "execution_count": 20,
     "metadata": {},
     "output_type": "execute_result"
    }
   ],
   "source": [
    "#View first 10 rows of customer survey dataset\n",
    "cust_survey.head(n=10)"
   ]
  },
  {
   "cell_type": "code",
   "execution_count": 21,
   "id": "fb333698",
   "metadata": {
    "code_folding": []
   },
   "outputs": [
    {
     "name": "stdout",
     "output_type": "stream",
     "text": [
      "Index(['Survey Q1: Do you plan to celebrate WHM? ',\n",
      "       'Survey Q2: If answered \"Yes\" to Q1, how do you plan to celebrate?',\n",
      "       'Survey Q3: Do you purchase feminist books in honor of WHM, either for yourself or as a gift for someone else?',\n",
      "       'Survey Q4: If answered \"Yes\" to Q3, how many books do you typically purchase during March?',\n",
      "       'Survey Q5: What do you like most about Athena's Story? ',\n",
      "       'Survey Q6: What types of books would you like to see more of at Athena's Story?'],\n",
      "      dtype='object')\n"
     ]
    }
   ],
   "source": [
    "#print variable names\n",
    "print(cust_survey.columns)"
   ]
  },
  {
   "cell_type": "code",
   "execution_count": 22,
   "id": "b36d744b",
   "metadata": {
    "code_folding": []
   },
   "outputs": [
    {
     "data": {
      "text/html": [
       "<div>\n",
       "<style scoped>\n",
       "    .dataframe tbody tr th:only-of-type {\n",
       "        vertical-align: middle;\n",
       "    }\n",
       "\n",
       "    .dataframe tbody tr th {\n",
       "        vertical-align: top;\n",
       "    }\n",
       "\n",
       "    .dataframe thead th {\n",
       "        text-align: right;\n",
       "    }\n",
       "</style>\n",
       "<table border=\"1\" class=\"dataframe\">\n",
       "  <thead>\n",
       "    <tr style=\"text-align: right;\">\n",
       "      <th></th>\n",
       "      <th>Q1</th>\n",
       "      <th>Q2</th>\n",
       "      <th>Q3</th>\n",
       "      <th>Q4</th>\n",
       "      <th>Q5</th>\n",
       "      <th>Q6</th>\n",
       "    </tr>\n",
       "  </thead>\n",
       "  <tbody>\n",
       "    <tr>\n",
       "      <th>0</th>\n",
       "      <td>Yes</td>\n",
       "      <td>Support a women’s nonprofit</td>\n",
       "      <td>No</td>\n",
       "      <td>1</td>\n",
       "      <td>All of the above</td>\n",
       "      <td>Feminist fiction</td>\n",
       "    </tr>\n",
       "    <tr>\n",
       "      <th>1</th>\n",
       "      <td>Yes</td>\n",
       "      <td>Host an event to celebrate women</td>\n",
       "      <td>Yes</td>\n",
       "      <td>2-3</td>\n",
       "      <td>Product selection relating to women's issues</td>\n",
       "      <td>Feminist zines</td>\n",
       "    </tr>\n",
       "    <tr>\n",
       "      <th>2</th>\n",
       "      <td>No</td>\n",
       "      <td>Watch movies directed by women and with female...</td>\n",
       "      <td>No</td>\n",
       "      <td>4 or more</td>\n",
       "      <td>Friendly service</td>\n",
       "      <td>Feminist poetry</td>\n",
       "    </tr>\n",
       "    <tr>\n",
       "      <th>3</th>\n",
       "      <td>Yes</td>\n",
       "      <td>Support women-owned businesses</td>\n",
       "      <td>No</td>\n",
       "      <td>1</td>\n",
       "      <td>Athena's story gives back to the local community</td>\n",
       "      <td>Feminist novels and essays</td>\n",
       "    </tr>\n",
       "    <tr>\n",
       "      <th>4</th>\n",
       "      <td>No</td>\n",
       "      <td>Spin tunes by female artists</td>\n",
       "      <td>No</td>\n",
       "      <td>1</td>\n",
       "      <td>All of the above</td>\n",
       "      <td>Biographies of inspirational women</td>\n",
       "    </tr>\n",
       "    <tr>\n",
       "      <th>5</th>\n",
       "      <td>No</td>\n",
       "      <td>Support female authors</td>\n",
       "      <td>No</td>\n",
       "      <td>2-3</td>\n",
       "      <td>Supporting a woman-owned business</td>\n",
       "      <td>Women's history books</td>\n",
       "    </tr>\n",
       "    <tr>\n",
       "      <th>6</th>\n",
       "      <td>No</td>\n",
       "      <td>Write positive affirmations on notes and hand ...</td>\n",
       "      <td>No</td>\n",
       "      <td>4 or more</td>\n",
       "      <td>Knowledgable staff recommendations</td>\n",
       "      <td>Feminist fiction</td>\n",
       "    </tr>\n",
       "    <tr>\n",
       "      <th>7</th>\n",
       "      <td>Yes</td>\n",
       "      <td>Decorate my bedroom with empowering quotes by ...</td>\n",
       "      <td>Yes</td>\n",
       "      <td>1</td>\n",
       "      <td>All of the above</td>\n",
       "      <td>Children's literature</td>\n",
       "    </tr>\n",
       "    <tr>\n",
       "      <th>8</th>\n",
       "      <td>No</td>\n",
       "      <td>Buy small gifts for my friends with messages o...</td>\n",
       "      <td>No</td>\n",
       "      <td>2-3</td>\n",
       "      <td>All of the above</td>\n",
       "      <td>Children's literature</td>\n",
       "    </tr>\n",
       "    <tr>\n",
       "      <th>9</th>\n",
       "      <td>No</td>\n",
       "      <td>Host a dinner party and have everyone go aroun...</td>\n",
       "      <td>No</td>\n",
       "      <td>1</td>\n",
       "      <td>Supporting a woman-owned business</td>\n",
       "      <td>Feminist fiction</td>\n",
       "    </tr>\n",
       "  </tbody>\n",
       "</table>\n",
       "</div>"
      ],
      "text/plain": [
       "    Q1                                                 Q2   Q3         Q4  \\\n",
       "0  Yes                        Support a women’s nonprofit   No          1   \n",
       "1  Yes                   Host an event to celebrate women  Yes        2-3   \n",
       "2   No  Watch movies directed by women and with female...   No  4 or more   \n",
       "3  Yes                     Support women-owned businesses   No          1   \n",
       "4   No                       Spin tunes by female artists   No          1   \n",
       "5   No                             Support female authors   No        2-3   \n",
       "6   No  Write positive affirmations on notes and hand ...   No  4 or more   \n",
       "7  Yes  Decorate my bedroom with empowering quotes by ...  Yes          1   \n",
       "8   No  Buy small gifts for my friends with messages o...   No        2-3   \n",
       "9   No  Host a dinner party and have everyone go aroun...   No          1   \n",
       "\n",
       "                                                 Q5  \\\n",
       "0                                  All of the above   \n",
       "1      Product selection relating to women's issues   \n",
       "2                                  Friendly service   \n",
       "3  Athena's story gives back to the local community   \n",
       "4                                  All of the above   \n",
       "5                 Supporting a woman-owned business   \n",
       "6                Knowledgable staff recommendations   \n",
       "7                                  All of the above   \n",
       "8                                  All of the above   \n",
       "9                 Supporting a woman-owned business   \n",
       "\n",
       "                                   Q6  \n",
       "0                    Feminist fiction  \n",
       "1                      Feminist zines  \n",
       "2                     Feminist poetry  \n",
       "3          Feminist novels and essays  \n",
       "4  Biographies of inspirational women  \n",
       "5               Women's history books  \n",
       "6                    Feminist fiction  \n",
       "7               Children's literature  \n",
       "8               Children's literature  \n",
       "9                    Feminist fiction  "
      ]
     },
     "execution_count": 22,
     "metadata": {},
     "output_type": "execute_result"
    }
   ],
   "source": [
    "#Create a dictionary for the cust_survey df new variable names\n",
    "cust_survey_VariableNames = {\n",
    "    'Survey Q1: Do you plan to celebrate WHM? ':\n",
    "    'Q1',\n",
    "    'Survey Q2: If answered \"Yes\" to Q1, how do you plan to celebrate?':\n",
    "    'Q2',\n",
    "    'Survey Q3: Do you purchase feminist books in honor of WHM, either for yourself or as a gift for someone else?':\n",
    "    'Q3',\n",
    "    'Survey Q4: If answered \"Yes\" to Q3, how many books do you typically purchase during March?':\n",
    "    'Q4',\n",
    "    'Survey Q5: What do you like most about Athena\\'s Story? ':\n",
    "    'Q5',\n",
    "    'Survey Q6: What types of books would you like to see more of at Athena\\'s Story?':\n",
    "    'Q6'\n",
    "}\n",
    "\n",
    "# Rename the columns of the df using the dictionary\n",
    "cust_survey = cust_survey.rename(columns=cust_survey_VariableNames)\n",
    "\n",
    "#View\n",
    "cust_survey.head(n=10)"
   ]
  },
  {
   "cell_type": "code",
   "execution_count": 23,
   "id": "cebe5b0e",
   "metadata": {},
   "outputs": [
    {
     "name": "stdout",
     "output_type": "stream",
     "text": [
      "<class 'pandas.core.frame.DataFrame'>\n",
      "RangeIndex: 84 entries, 0 to 83\n",
      "Data columns (total 6 columns):\n",
      " #   Column  Non-Null Count  Dtype \n",
      "---  ------  --------------  ----- \n",
      " 0   Q1      84 non-null     object\n",
      " 1   Q2      32 non-null     object\n",
      " 2   Q3      65 non-null     object\n",
      " 3   Q4      16 non-null     object\n",
      " 4   Q5      84 non-null     object\n",
      " 5   Q6      84 non-null     object\n",
      "dtypes: object(6)\n",
      "memory usage: 4.1+ KB\n"
     ]
    }
   ],
   "source": [
    "cust_survey.info()"
   ]
  },
  {
   "cell_type": "code",
   "execution_count": 24,
   "id": "e21a96d9",
   "metadata": {},
   "outputs": [
    {
     "data": {
      "text/html": [
       "<div>\n",
       "<style scoped>\n",
       "    .dataframe tbody tr th:only-of-type {\n",
       "        vertical-align: middle;\n",
       "    }\n",
       "\n",
       "    .dataframe tbody tr th {\n",
       "        vertical-align: top;\n",
       "    }\n",
       "\n",
       "    .dataframe thead th {\n",
       "        text-align: right;\n",
       "    }\n",
       "</style>\n",
       "<table border=\"1\" class=\"dataframe\">\n",
       "  <thead>\n",
       "    <tr style=\"text-align: right;\">\n",
       "      <th></th>\n",
       "      <th>Q1</th>\n",
       "      <th>Q2</th>\n",
       "      <th>Q3</th>\n",
       "      <th>Q4</th>\n",
       "      <th>Q5</th>\n",
       "      <th>Q6</th>\n",
       "    </tr>\n",
       "  </thead>\n",
       "  <tbody>\n",
       "    <tr>\n",
       "      <th>count</th>\n",
       "      <td>84</td>\n",
       "      <td>32</td>\n",
       "      <td>65</td>\n",
       "      <td>16</td>\n",
       "      <td>84</td>\n",
       "      <td>84</td>\n",
       "    </tr>\n",
       "    <tr>\n",
       "      <th>unique</th>\n",
       "      <td>2</td>\n",
       "      <td>24</td>\n",
       "      <td>2</td>\n",
       "      <td>3</td>\n",
       "      <td>6</td>\n",
       "      <td>12</td>\n",
       "    </tr>\n",
       "    <tr>\n",
       "      <th>top</th>\n",
       "      <td>No</td>\n",
       "      <td>Support women-owned businesses</td>\n",
       "      <td>No</td>\n",
       "      <td>1</td>\n",
       "      <td>All of the above</td>\n",
       "      <td>Feminist fiction</td>\n",
       "    </tr>\n",
       "    <tr>\n",
       "      <th>freq</th>\n",
       "      <td>51</td>\n",
       "      <td>3</td>\n",
       "      <td>50</td>\n",
       "      <td>7</td>\n",
       "      <td>30</td>\n",
       "      <td>22</td>\n",
       "    </tr>\n",
       "  </tbody>\n",
       "</table>\n",
       "</div>"
      ],
      "text/plain": [
       "        Q1                              Q2  Q3  Q4                Q5  \\\n",
       "count   84                              32  65  16                84   \n",
       "unique   2                              24   2   3                 6   \n",
       "top     No  Support women-owned businesses  No   1  All of the above   \n",
       "freq    51                               3  50   7                30   \n",
       "\n",
       "                      Q6  \n",
       "count                 84  \n",
       "unique                12  \n",
       "top     Feminist fiction  \n",
       "freq                  22  "
      ]
     },
     "execution_count": 24,
     "metadata": {},
     "output_type": "execute_result"
    }
   ],
   "source": [
    "cust_survey.describe()"
   ]
  },
  {
   "cell_type": "markdown",
   "id": "0b874965",
   "metadata": {},
   "source": [
    "The dataset is composed of 84 observations. I contains  missing values in Q2, Q3, and Survey Q4. There two asumptions we can make about the missing data. For Q2 and Q4, since they're are follow up from Q1 and Q3 respectively, we can assume that participants who answer \"No\" for Q1 AND Q3 did not fill out the follow up questions. The second assumption is that p participants did not provide answers for those question, since Q3 has missing values.\n",
    "   \n",
    "If the first assumption is true, the missing values in  Q2 and Survey Q4, we can replace them with \"Not applicable\" as those questions are only applicable if the answer to Survey Q1 and Survey Q3 is \"Yes,\" respectively.\n",
    "\n",
    "If the second assumption is true, they will be treated as missing values. "
   ]
  },
  {
   "cell_type": "code",
   "execution_count": 36,
   "id": "ddae8b5c",
   "metadata": {},
   "outputs": [
    {
     "name": "stdout",
     "output_type": "stream",
     "text": [
      "Q1 \n",
      "No     51\n",
      "Yes    33\n",
      "dtype: int64\n",
      "Q2    32\n",
      "dtype: int64\n"
     ]
    }
   ],
   "source": [
    "#Q1 reponses counts\n",
    "print(cust_survey[['Q1']].value_counts())\n"
   ]
  },
  {
   "cell_type": "code",
   "execution_count": 37,
   "id": "9d789928",
   "metadata": {},
   "outputs": [
    {
     "name": "stdout",
     "output_type": "stream",
     "text": [
      "Q2    32\n",
      "dtype: int64\n"
     ]
    }
   ],
   "source": [
    "#Q2 count \n",
    "print(cust_survey[['Q2']].count())"
   ]
  },
  {
   "cell_type": "markdown",
   "id": "979bbff6",
   "metadata": {},
   "source": [
    "In Q1, 51 customers responded \"No\" while 33 responded \"yes\". In Question 2, only 32 answers were provided. Therefore, there seems to be a discrepancy between the customers who responded \"Yes\" in Q1 and compate to the amount of answers provided for Q2. The first assumption we made about missing values for Q2 could be false, becuase there's a possibility that participants who answer \"No\" in Q1 also provided answer to the the follow up Q2. This also would apply to Q3 and Q4 If that the case then second assumption will be true, and threfore we will treat it as missing values. \n",
    "\n",
    "Let's take a look of how participant responded to questions 1 through 4."
   ]
  },
  {
   "cell_type": "code",
   "execution_count": 40,
   "id": "15925cc7",
   "metadata": {
    "code_folding": []
   },
   "outputs": [],
   "source": [
    "#subsetting cust_survey that containt only data where responde answer yes on q1\n",
    "yes_q1 = cust_survey[cust_survey['Q1'] == 'Yes']\n",
    "\n",
    "#subsetting cust_survey that contanins onlly dat from respondents that answer no on q1\n",
    "no_q1 = cust_survey[cust_survey['Q1'] == 'No']"
   ]
  },
  {
   "cell_type": "code",
   "execution_count": 41,
   "id": "baca4ac6",
   "metadata": {
    "code_folding": [
     0
    ]
   },
   "outputs": [
    {
     "name": "stdout",
     "output_type": "stream",
     "text": [
      "<class 'pandas.core.frame.DataFrame'>\n",
      "Int64Index: 33 entries, 0 to 83\n",
      "Data columns (total 6 columns):\n",
      " #   Column  Non-Null Count  Dtype \n",
      "---  ------  --------------  ----- \n",
      " 0   Q1      33 non-null     object\n",
      " 1   Q2      13 non-null     object\n",
      " 2   Q3      26 non-null     object\n",
      " 3   Q4      6 non-null      object\n",
      " 4   Q5      33 non-null     object\n",
      " 5   Q6      33 non-null     object\n",
      "dtypes: object(6)\n",
      "memory usage: 1.8+ KB\n"
     ]
    }
   ],
   "source": [
    "#data\n",
    "yes_q1.info()"
   ]
  },
  {
   "cell_type": "code",
   "execution_count": 18,
   "id": "f9816732",
   "metadata": {},
   "outputs": [
    {
     "name": "stdout",
     "output_type": "stream",
     "text": [
      "<class 'pandas.core.frame.DataFrame'>\n",
      "Int64Index: 51 entries, 2 to 81\n",
      "Data columns (total 6 columns):\n",
      " #   Column  Non-Null Count  Dtype \n",
      "---  ------  --------------  ----- \n",
      " 0   Q1      51 non-null     object\n",
      " 1   Q2      19 non-null     object\n",
      " 2   Q3      39 non-null     object\n",
      " 3   Q4      10 non-null     object\n",
      " 4   Q5      51 non-null     object\n",
      " 5   Q6      51 non-null     object\n",
      "dtypes: object(6)\n",
      "memory usage: 2.8+ KB\n"
     ]
    }
   ],
   "source": [
    "no_q1.info()"
   ]
  },
  {
   "cell_type": "code",
   "execution_count": 69,
   "id": "2fd2a126",
   "metadata": {
    "code_folding": []
   },
   "outputs": [
    {
     "name": "stdout",
     "output_type": "stream",
     "text": [
      "\n",
      "Out of those who answer 'Yes' in Question 1,\n",
      "how many participant provided and Answer to Question 2\n",
      "-------------------------------------------------------\n",
      "Not Null: 39%\n",
      "Null: 61%\n",
      "\n",
      "Out of those who answer 'No' in Question 1,\n",
      "how many participant provided and Answer to Question 2\n",
      "-------------------------------------------------------\n",
      "Not Null: 37%\n",
      "Null: 63%\n"
     ]
    }
   ],
   "source": [
    "#print statement\n",
    "print(\"\"\"\n",
    "Out of those who answer 'Yes' in Question 1,\n",
    "how many participant provided and Answer to Question 2\n",
    "-------------------------------------------------------\"\"\")\n",
    "#Print dynamic string with reponse percentage for yes_q1\n",
    "print(f'Not Null: {round(yes_q1[\"Q2\"].notnull().sum()/len(yes_q1)*100)}%')\n",
    "print(f'Null: {round(yes_q1[\"Q2\"].isnull().sum()/len(yes_q1)*100)}%')\n",
    "\n",
    "#print statement\n",
    "print(\"\"\"\n",
    "Out of those who answer 'No' in Question 1,\n",
    "how many participant provided and Answer to Question 2\n",
    "-------------------------------------------------------\"\"\")\n",
    "#Print dynamic string with reponse percentage for no_q1\n",
    "print(f'Not Null: {round(no_q1[\"Q2\"].notnull().sum()/len(no_q1)*100)}%')\n",
    "print(f'Null: {round(no_q1[\"Q2\"].isnull().sum()/len(no_q1)*100)}%')"
   ]
  },
  {
   "cell_type": "markdown",
   "id": "9963b84e",
   "metadata": {},
   "source": [
    "60% of respondent who answer \"Yes\" in Q1 did no provide an answer for Q2. Now let's look at those who answer \"No\" on Q1."
   ]
  },
  {
   "cell_type": "markdown",
   "id": "73cbf33a",
   "metadata": {},
   "source": [
    "37% of participants that answered \"No\" for Q1, regardless of their responses for  Q1, also provided answers forth follow up Q2. \n",
    "\n",
    "Now lets take a loot at Q3 and Q4"
   ]
  },
  {
   "cell_type": "code",
   "execution_count": 70,
   "id": "6b985c29",
   "metadata": {
    "code_folding": []
   },
   "outputs": [],
   "source": [
    "#subsetting cust_survey that containt only data where responde answer yes on q1\n",
    "yes_q3 = cust_survey[cust_survey['Q3'] == 'Yes']\n",
    "\n",
    "#subsetting cust_survey that contanins onlly dat from respondents that answer no on q1\n",
    "no_q3 = cust_survey[cust_survey['Q3'] == 'No']"
   ]
  },
  {
   "cell_type": "code",
   "execution_count": 22,
   "id": "5335ef8d",
   "metadata": {
    "code_folding": [
     0
    ]
   },
   "outputs": [
    {
     "name": "stdout",
     "output_type": "stream",
     "text": [
      "<class 'pandas.core.frame.DataFrame'>\n",
      "Int64Index: 15 entries, 1 to 63\n",
      "Data columns (total 6 columns):\n",
      " #   Column  Non-Null Count  Dtype \n",
      "---  ------  --------------  ----- \n",
      " 0   Q1      15 non-null     object\n",
      " 1   Q2      7 non-null      object\n",
      " 2   Q3      15 non-null     object\n",
      " 3   Q4      3 non-null      object\n",
      " 4   Q5      15 non-null     object\n",
      " 5   Q6      15 non-null     object\n",
      "dtypes: object(6)\n",
      "memory usage: 840.0+ bytes\n"
     ]
    }
   ],
   "source": [
    "#how many repondent from the q1_no table answered q3.\n",
    "yes_q3.info()"
   ]
  },
  {
   "cell_type": "code",
   "execution_count": 71,
   "id": "c255994a",
   "metadata": {},
   "outputs": [
    {
     "name": "stdout",
     "output_type": "stream",
     "text": [
      "<class 'pandas.core.frame.DataFrame'>\n",
      "Int64Index: 50 entries, 0 to 64\n",
      "Data columns (total 6 columns):\n",
      " #   Column  Non-Null Count  Dtype \n",
      "---  ------  --------------  ----- \n",
      " 0   Q1      50 non-null     object\n",
      " 1   Q2      25 non-null     object\n",
      " 2   Q3      50 non-null     object\n",
      " 3   Q4      13 non-null     object\n",
      " 4   Q5      50 non-null     object\n",
      " 5   Q6      50 non-null     object\n",
      "dtypes: object(6)\n",
      "memory usage: 2.7+ KB\n"
     ]
    }
   ],
   "source": [
    "no_q3.info()"
   ]
  },
  {
   "cell_type": "code",
   "execution_count": 72,
   "id": "4f8a5fdf",
   "metadata": {
    "code_folding": []
   },
   "outputs": [
    {
     "name": "stdout",
     "output_type": "stream",
     "text": [
      "\n",
      "Out of those who answer 'Yes' in Question 3,\n",
      "how many participant provided and Answer to Question 4\n",
      "-------------------------------------------------------\n",
      "Not Null: 20%\n",
      "Null: 80%\n",
      "\n",
      "Out of those who answer 'No' in Question 3,\n",
      "how many participant provided and Answer to Question 4\n",
      "-------------------------------------------------------\n",
      "Not Null: 26%\n",
      "Null: 74%\n"
     ]
    }
   ],
   "source": [
    "#print statement\n",
    "print(\"\"\"\n",
    "Out of those who answer 'Yes' in Question 3,\n",
    "how many participant provided and Answer to Question 4\n",
    "-------------------------------------------------------\"\"\")\n",
    "#Print dynamic string with reponse percentage for no_q1\n",
    "print(f'Not Null: {round(yes_q3[\"Q4\"].notnull().sum()/len(yes_q3)*100,)}%')\n",
    "print(f'Null: {round(yes_q3[\"Q4\"].isnull().sum()/len(yes_q3)*100,)}%')\n",
    "\n",
    "#print statement\n",
    "print(\"\"\"\n",
    "Out of those who answer 'No' in Question 3,\n",
    "how many participant provided and Answer to Question 4\n",
    "-------------------------------------------------------\"\"\")\n",
    "#Print dynamic string with reponse percentage for no_q1\n",
    "print(f'Not Null: {round(no_q3[\"Q4\"].notnull().sum()/len(no_q3)*100,)}%')\n",
    "print(f'Null: {round(no_q3[\"Q4\"].isnull().sum()/len(no_q3)*100,)}%')\n"
   ]
  },
  {
   "cell_type": "markdown",
   "id": "4da8b07b",
   "metadata": {},
   "source": [
    "80% of participants who responden 'Yes' on Q3, did not provide an answer for Q4. "
   ]
  },
  {
   "cell_type": "markdown",
   "id": "878051e9",
   "metadata": {},
   "source": [
    "265% of participant who reponded 'No' on Q3, also, regardless of their response for Q3 provided an answer for the follow up Q4"
   ]
  },
  {
   "cell_type": "markdown",
   "id": "eef0b5e9",
   "metadata": {},
   "source": [
    "In conclusion, instead of treating missing values as not applicable because Q2 and Q4 are follow up, we can treat these as missing values because participants failed to provide answers for Q2 to Q4 "
   ]
  },
  {
   "cell_type": "markdown",
   "id": "d2012b50",
   "metadata": {},
   "source": [
    "As mentioned before, The dataset has a small sample size, and the missing values futher limits the accuracy and the value of the insights that can be drawn from the customer survey dataset."
   ]
  },
  {
   "cell_type": "markdown",
   "id": "25b5be47",
   "metadata": {},
   "source": [
    "## Analysis"
   ]
  },
  {
   "cell_type": "code",
   "execution_count": 83,
   "id": "0176aa30",
   "metadata": {
    "cell_style": "center",
    "code_folding": []
   },
   "outputs": [
    {
     "data": {
      "image/png": "[encoded data removed]",
      "text/plain": [
       "<Figure size 360x360 with 1 Axes>"
      ]
     },
     "metadata": {},
     "output_type": "display_data"
    }
   ],
   "source": [
    "# import libraries\n",
    "import seaborn as sns\n",
    "import matplotlib.pyplot as plt\n",
    "\n",
    "sns.set_palette(\"Paired\")\n",
    "# set plot style: grey grid in the background:\n",
    "sns.set(style=\"white\")\n",
    "\n",
    "# Set the figure size\n",
    "plt.figure(figsize=(5, 5))\n",
    "\n",
    "# plot a bar chart\n",
    "# Create a count plot using Seaborn\n",
    "ax = sns.countplot(y='Q1',\n",
    "                   data=cust_survey,\n",
    "                   linewidth=1,\n",
    "                   edgecolor='black',\n",
    "                   palette='Paired')\n",
    "plt.title('Customers Planning to celebrate\\n Women History Month\\n',\n",
    "          fontname='Times New Roman',\n",
    "          fontsize=14,\n",
    "          fontweight='light')\n",
    "plt.ylabel('\\n',\n",
    "           fontname='Times New Roman',\n",
    "           fontsize=12,\n",
    "           fontweight='light')\n",
    "ax.set_yticklabels(ax.get_yticklabels(),\n",
    "                   fontname='Times New Roman',\n",
    "                   fontsize=10)\n",
    "#remove x-axis label\n",
    "plt.xlabel(' ')  #create code to remove tile\n",
    "\n",
    "# remove the spines\n",
    "sns.despine()\n",
    "\n",
    "# remove the x-axis line\n",
    "sns.despine(bottom=True)\n",
    "# Remove x-axis\n",
    "ax.set(xticks=[])\n",
    "\n",
    "#loop through each bar in the countplot and add a text annotation with the percentage value\n",
    "total = len(cust_survey['Q1'])\n",
    "palette = sns.color_palette(\"Paired\")  # define color palette\n",
    "\n",
    "for i, p in enumerate(ax.patches):\n",
    "    percentage = '    {:.1f}%'.format(round((100 * p.get_width() / total)))\n",
    "    x = p.get_x() + p.get_width() + 0.02\n",
    "    y = p.get_y() + p.get_height() / 2\n",
    "    ax.annotate(percentage, (x, y),\n",
    "                color=palette[i % len(palette)],\n",
    "                fontweight=\"bold\")\n",
    "\n",
    "#View\n",
    "plt.show()"
   ]
  },
  {
   "cell_type": "markdown",
   "id": "fef1c637",
   "metadata": {
    "cell_style": "center"
   },
   "source": [
    "\n",
    "\n",
    "39% of of respondents reported planning to celebrate Women History Month, while 61% reported they would not planning to celebrate Women History Month.\n"
   ]
  },
  {
   "cell_type": "code",
   "execution_count": 85,
   "id": "950ca8e0",
   "metadata": {
    "cell_style": "center",
    "code_folding": []
   },
   "outputs": [
    {
     "data": {
      "image/png": "[encoded data removed]",
      "text/plain": [
       "<Figure size 360x360 with 1 Axes>"
      ]
     },
     "metadata": {},
     "output_type": "display_data"
    }
   ],
   "source": [
    "# import libraries\n",
    "import seaborn as sns\n",
    "import matplotlib.pyplot as plt\n",
    "\n",
    "sns.set_palette(\"Paired\")\n",
    "# set plot style: grey grid in the background:\n",
    "sns.set(style=\"white\")\n",
    "\n",
    "# Set the figure size\n",
    "plt.figure(figsize=(5, 5))\n",
    "\n",
    "# plot a bar chart\n",
    "# Create a count plot using Seaborn\n",
    "ax = sns.countplot(y='Q3',\n",
    "                   data=cust_survey,\n",
    "                   linewidth=1,\n",
    "                   edgecolor='black',\n",
    "                   palette='Paired')\n",
    "plt.title(\n",
    "    'Customers Purchasing Feminist Books\\n in Honor Women History Month',\n",
    "    fontname='Times New Roman',\n",
    "    fontsize=14,\n",
    "    fontweight='light')\n",
    "plt.ylabel('',\n",
    "           fontname='Times New Roman',\n",
    "           fontsize=12,\n",
    "           fontweight='light')\n",
    "ax.set_yticklabels(ax.get_yticklabels(),\n",
    "                   fontname='Times New Roman',\n",
    "                   fontsize=10)\n",
    "#remove x-axis label\n",
    "plt.xlabel(' ')  #create code to remove tile\n",
    "\n",
    "# remove the spines\n",
    "sns.despine()\n",
    "\n",
    "# remove the x-axis line\n",
    "sns.despine(bottom=True)\n",
    "# Remove x-axis\n",
    "ax.set(xticks=[])\n",
    "\n",
    "#loop through each bar in the countplot and add a text annotation with the percentage value\n",
    "total = len(cust_survey['Q3'])\n",
    "palette = sns.color_palette(\"Paired\")  # define color palette\n",
    "\n",
    "for i, p in enumerate(ax.patches):\n",
    "    percentage = '    {:.1f}%'.format(round(100 * p.get_width() / total))\n",
    "    x = p.get_x() + p.get_width() + 0.02\n",
    "    y = p.get_y() + p.get_height() / 2\n",
    "    ax.annotate(percentage, (x, y),\n",
    "                color=palette[i % len(palette)],\n",
    "                fontweight=\"bold\")\n",
    "\n",
    "#View\n",
    "plt.show()"
   ]
  },
  {
   "cell_type": "markdown",
   "id": "b90c7a00",
   "metadata": {
    "cell_style": "center"
   },
   "source": [
    "60% of participant reported they would by a feminist book in honor of Women History Month, whole 15% reported they would not buy feminist books in honor of WHM."
   ]
  },
  {
   "cell_type": "code",
   "execution_count": 89,
   "id": "b57d25c3",
   "metadata": {
    "cell_style": "center",
    "code_folding": []
   },
   "outputs": [
    {
     "data": {
      "image/png": "[encoded data removed]",
      "text/plain": [
       "<Figure size 360x360 with 1 Axes>"
      ]
     },
     "metadata": {},
     "output_type": "display_data"
    }
   ],
   "source": [
    "# import libraries\n",
    "import seaborn as sns\n",
    "import matplotlib.pyplot as plt\n",
    "\n",
    "sns.set_palette(\"Paired\")\n",
    "# set plot style: grey grid in the background:\n",
    "sns.set(style=\"white\")\n",
    "\n",
    "# Set the figure size\n",
    "plt.figure(figsize=(5, 5))\n",
    "\n",
    "# plot a bar chart\n",
    "# Create a count plot using Seaborn\n",
    "ax = sns.countplot(y='Q4',\n",
    "                   data=cust_survey,\n",
    "                   linewidth=1,\n",
    "                   edgecolor='black',\n",
    "                   palette='Paired')\n",
    "plt.title(\n",
    "    'Amount of Books Typically Purchase\\n During Women History Month (%)\\n',\n",
    "    fontname='Times New Roman',\n",
    "    fontsize=14,\n",
    "    fontweight='light')\n",
    "plt.ylabel('Amount of Books\\n',\n",
    "           fontname='Times New Roman',\n",
    "           fontsize=12,\n",
    "           fontweight='light')\n",
    "ax.set_yticklabels(ax.get_yticklabels(),\n",
    "                   fontname='Times New Roman',\n",
    "                   fontsize=12)\n",
    "#remove x-axis label\n",
    "plt.xlabel(' ')  #create code to remove tile\n",
    "\n",
    "# remove the spines\n",
    "sns.despine()\n",
    "\n",
    "# remove the x-axis line\n",
    "sns.despine(bottom=True)\n",
    "# Remove x-axis\n",
    "ax.set(xticks=[])\n",
    "\n",
    "#loop through each bar in the countplot and add a text annotation with the percentage value\n",
    "total = len(cust_survey['Q4'])\n",
    "palette = sns.color_palette(\"Paired\")  # define color palette\n",
    "\n",
    "for i, p in enumerate(ax.patches):\n",
    "    percentage = '    {:.1f}%'.format(round(100 * p.get_width() / total))\n",
    "    x = p.get_x() + p.get_width() + 0.02\n",
    "    y = p.get_y() + p.get_height() / 2\n",
    "    ax.annotate(percentage, (x, y),\n",
    "                color=palette[i % len(palette)],\n",
    "                fontweight=\"bold\")\n",
    "\n",
    "#View\n",
    "plt.show()"
   ]
  },
  {
   "cell_type": "code",
   "execution_count": 90,
   "id": "c5599ea9",
   "metadata": {},
   "outputs": [],
   "source": [
    "total = len(cust_survey['Q4'])\n",
    "print()"
   ]
  },
  {
   "cell_type": "markdown",
   "id": "4cd29497",
   "metadata": {},
   "source": [
    "When customers were asked the amount of book that they will buy in honot of Women History Months the most popular answer was 1 book. Followef by 2-3 books with reprsetn 7.1% of respondents; and the least pupular answer which is 4 or more representin 3.6% of responsdents."
   ]
  },
  {
   "cell_type": "code",
   "execution_count": 261,
   "id": "cf6d0548",
   "metadata": {
    "cell_style": "center",
    "code_folding": [
     0
    ]
   },
   "outputs": [
    {
     "data": {
      "image/png": "[encoded data removed]",
      "text/plain": [
       "<Figure size 360x360 with 1 Axes>"
      ]
     },
     "metadata": {},
     "output_type": "display_data"
    }
   ],
   "source": [
    "# import libraries\n",
    "import seaborn as sns\n",
    "import matplotlib.pyplot as plt\n",
    "\n",
    "sns.set_palette(\"Paired\")\n",
    "# set plot style: grey grid in the background:\n",
    "sns.set(style=\"white\")\n",
    "\n",
    "# Set the figure size\n",
    "plt.figure(figsize=(5, 5))\n",
    "\n",
    "# plot a bar chart\n",
    "# Create a count plot using Seaborn\n",
    "ax = sns.countplot(y='Q5',\n",
    "                   data=cust_survey,\n",
    "                   linewidth=1,\n",
    "                   edgecolor='black',\n",
    "                   palette='Paired',\n",
    "                  order=cust_survey['Q5'].value_counts().sort_values(ascending=False).index)\n",
    "plt.title(\"What Customers Like About Athena's Story\\n\",\n",
    "          fontname='Times New Roman',\n",
    "          fontsize=14,\n",
    "          fontweight='light')\n",
    "plt.ylabel('',\n",
    "           fontname='Times New Roman',\n",
    "           fontsize=12,\n",
    "           fontweight='light')\n",
    "ax.set_yticklabels(ax.get_yticklabels(),\n",
    "                   fontname='Times New Roman',\n",
    "                   fontsize=10)\n",
    "#remove x-axis label\n",
    "plt.xlabel(' ')  #create code to remove tile\n",
    "\n",
    "# remove the spines\n",
    "sns.despine()\n",
    "\n",
    "# remove the x-axis line\n",
    "sns.despine(bottom=True)\n",
    "# Remove x-axis\n",
    "ax.set(xticks=[])\n",
    "\n",
    "#loop through each bar in the countplot and add a text annotation with the percentage value\n",
    "total = len(cust_survey['Q1'])\n",
    "palette = sns.color_palette(\"Paired\")  # define color palette\n",
    "\n",
    "for i, p in enumerate(ax.patches):\n",
    "    percentage = '    {:.1f}%'.format(100 * p.get_width() / total)\n",
    "    x = p.get_x() + p.get_width() + 0.02\n",
    "    y = p.get_y() + p.get_height() / 2\n",
    "    ax.annotate(percentage, (x, y),\n",
    "                color=palette[i % len(palette)],\n",
    "                fontweight=\"bold\")\n",
    "\n",
    "#View\n",
    "plt.show()"
   ]
  },
  {
   "cell_type": "markdown",
   "id": "97e86255",
   "metadata": {
    "cell_style": "center"
   },
   "source": [
    "When customers were ask what they like about Athena's Story the following insights were drawn from their responses\n",
    "\n",
    "\"All of the above\" was the most popular response, selected by 35.7% of respondents. This suggests that customers value a variety of factors when deciding where to shop, rather than being influenced by a single factor.\n",
    "\n",
    "The next most popular response was \"Product selection relating to women's issues,\" selected by 14.1% of respondents. This indicates that customers are interested in purchasing products that are relevant to their gender and that they may be more likely to shop at businesses that cater to their specific needs.\n",
    "\n",
    "\"Knowledgable staff recommendations\" and \"Friendly service\" were selected by 13.1% of respondents each. This suggests that customers value personalized attention and expertise when shopping, and that businesses with knowledgeable and friendly staff may have a competitive advantage.\n",
    "\n",
    "\"Supporting a woman-owned business\" and \"Athena's story gives back to the local community\" were each selected by 11.9% of respondents. This indicates that customers are interested in supporting businesses with a social or ethical mission, and that businesses that prioritize community involvement may be more appealing to customers.\n",
    "\n",
    "Overall, these insights suggests that customers value a variety of factors when deciding where to shop, including product selection, staff expertise and customer service, social responsibility, and community involvement. Being able to offer a combination of these factors may be more likely to attract and retain customers."
   ]
  },
  {
   "cell_type": "code",
   "execution_count": 32,
   "id": "21806e29",
   "metadata": {
    "code_folding": [
     0
    ]
   },
   "outputs": [
    {
     "data": {
      "text/html": [
       "<div>\n",
       "<style scoped>\n",
       "    .dataframe tbody tr th:only-of-type {\n",
       "        vertical-align: middle;\n",
       "    }\n",
       "\n",
       "    .dataframe tbody tr th {\n",
       "        vertical-align: top;\n",
       "    }\n",
       "\n",
       "    .dataframe thead th {\n",
       "        text-align: right;\n",
       "    }\n",
       "</style>\n",
       "<table border=\"1\" class=\"dataframe\">\n",
       "  <thead>\n",
       "    <tr style=\"text-align: right;\">\n",
       "      <th></th>\n",
       "      <th>genre</th>\n",
       "      <th>count</th>\n",
       "      <th>percentage</th>\n",
       "    </tr>\n",
       "  </thead>\n",
       "  <tbody>\n",
       "    <tr>\n",
       "      <th>0</th>\n",
       "      <td>Feminist fiction</td>\n",
       "      <td>22</td>\n",
       "      <td>26.19</td>\n",
       "    </tr>\n",
       "    <tr>\n",
       "      <th>1</th>\n",
       "      <td>Biographies of inspirational women</td>\n",
       "      <td>17</td>\n",
       "      <td>20.24</td>\n",
       "    </tr>\n",
       "    <tr>\n",
       "      <th>2</th>\n",
       "      <td>Children's literature</td>\n",
       "      <td>13</td>\n",
       "      <td>15.48</td>\n",
       "    </tr>\n",
       "    <tr>\n",
       "      <th>3</th>\n",
       "      <td>Feminist zines</td>\n",
       "      <td>12</td>\n",
       "      <td>14.29</td>\n",
       "    </tr>\n",
       "    <tr>\n",
       "      <th>4</th>\n",
       "      <td>Feminist poetry</td>\n",
       "      <td>4</td>\n",
       "      <td>4.76</td>\n",
       "    </tr>\n",
       "    <tr>\n",
       "      <th>5</th>\n",
       "      <td>Feminist science fiction</td>\n",
       "      <td>4</td>\n",
       "      <td>4.76</td>\n",
       "    </tr>\n",
       "    <tr>\n",
       "      <th>6</th>\n",
       "      <td>Feminist novels and essays</td>\n",
       "      <td>3</td>\n",
       "      <td>3.57</td>\n",
       "    </tr>\n",
       "    <tr>\n",
       "      <th>7</th>\n",
       "      <td>Women's history books</td>\n",
       "      <td>2</td>\n",
       "      <td>2.38</td>\n",
       "    </tr>\n",
       "    <tr>\n",
       "      <th>8</th>\n",
       "      <td>Feminist literary criticism</td>\n",
       "      <td>2</td>\n",
       "      <td>2.38</td>\n",
       "    </tr>\n",
       "    <tr>\n",
       "      <th>9</th>\n",
       "      <td>Books about women in the arts</td>\n",
       "      <td>2</td>\n",
       "      <td>2.38</td>\n",
       "    </tr>\n",
       "    <tr>\n",
       "      <th>10</th>\n",
       "      <td>Women's journals</td>\n",
       "      <td>2</td>\n",
       "      <td>2.38</td>\n",
       "    </tr>\n",
       "    <tr>\n",
       "      <th>11</th>\n",
       "      <td>Women's world studies</td>\n",
       "      <td>1</td>\n",
       "      <td>1.19</td>\n",
       "    </tr>\n",
       "  </tbody>\n",
       "</table>\n",
       "</div>"
      ],
      "text/plain": [
       "                                 genre  count  percentage\n",
       "0                     Feminist fiction     22       26.19\n",
       "1   Biographies of inspirational women     17       20.24\n",
       "2                Children's literature     13       15.48\n",
       "3                       Feminist zines     12       14.29\n",
       "4                      Feminist poetry      4        4.76\n",
       "5             Feminist science fiction      4        4.76\n",
       "6           Feminist novels and essays      3        3.57\n",
       "7                Women's history books      2        2.38\n",
       "8          Feminist literary criticism      2        2.38\n",
       "9        Books about women in the arts      2        2.38\n",
       "10                    Women's journals      2        2.38\n",
       "11               Women's world studies      1        1.19"
      ]
     },
     "execution_count": 32,
     "metadata": {},
     "output_type": "execute_result"
    }
   ],
   "source": [
    "#saving value counts for 'Q6' in varaible Q6-counts\n",
    "Q6_count = cust_survey['Q6'].value_counts()\n",
    "\n",
    "# Convert to a DataFrame\n",
    "treemap_df_Q6 = pd.DataFrame({'genre': Q6_count.index, \n",
    "                              'count': Q6_count.values,\n",
    "                            'percentage': (Q6_count.values/len(cust_survey)*100).round(2)}\n",
    "                            )\n",
    "#View\n",
    "treemap_df_Q6"
   ]
  },
  {
   "cell_type": "code",
   "execution_count": 33,
   "id": "f20c9c05",
   "metadata": {
    "code_folding": [
     0
    ]
   },
   "outputs": [
    {
     "data": {
      "image/png": "[encoded data removed]",
      "text/plain": [
       "<Figure size 720x432 with 1 Axes>"
      ]
     },
     "metadata": {},
     "output_type": "display_data"
    }
   ],
   "source": [
    "#import squaritfy for treemap and text manipulation\n",
    "import squarify    \n",
    "import textwrap\n",
    "\n",
    "# Treemap Parameters\n",
    "norm_x = 500\n",
    "norm_y = 600\n",
    "color = plt.cm.Paired\n",
    "\n",
    "# create a list of wrapped labels\n",
    "wrapped_labels = [ '\\n'.join(textwrap.wrap(l, 13)) for l in treemap_df_Q6['genre'] ]\n",
    "\n",
    "\n",
    "# plot it\n",
    "fig, ax = plt.subplots(figsize=(10, 6))\n",
    "norm_x = 800\n",
    "norm_y = 600\n",
    "color = plt.cm.Paired\n",
    "squarify.plot(sizes=treemap_df_Q6['count'], label=wrapped_labels ,alpha=.8, color=color.colors,\n",
    "              norm_x=norm_x, norm_y=norm_y, text_kwargs={'fontsize':11}, edgecolor = 'black', linewidth = 2)\n",
    "plt.title('f')\n",
    "\n",
    "# Remove axis\n",
    "plt.axis('off')\n",
    "plt.show()"
   ]
  },
  {
   "cell_type": "markdown",
   "id": "ad4152f3",
   "metadata": {},
   "source": [
    "Customer were asked what types of books would you like to see more of at Athena's Story the following genre were the most populars, in order from most to least: Feminist Fiction, Biographies of inspirational Women, Children's Literature and Feminist"
   ]
  },
  {
   "cell_type": "code",
   "execution_count": 34,
   "id": "8cb10bad",
   "metadata": {
    "cell_style": "center",
    "code_folding": [
     0
    ]
   },
   "outputs": [
    {
     "data": {
      "text/plain": [
       "'support nonprofit host event celebrate watch movies directed female leads support womenowned businesses spin tunes female artists support female authors write positive affirmations notes them decorate empowering quotes buy gifts friends messages empowerment host dinner party everyone go table saying support buy girlpower swag support womenowned businesses write thank inspires support authors artists start mentorship female coworker volunteer feminist nonprofit host dinner female friends make collage art chill girlfriends feminist shows support femaleowned companies volunteer nonprofit shop womenowned businesses buy books female authors share quotes social media ceremony give awards girlfriends celebrate their accomplishments support female authors decorate empowering quotes support womenowned businesses support authors artists host dinner female friends shop womenowned businesses buy books female authors'"
      ]
     },
     "execution_count": 34,
     "metadata": {},
     "output_type": "execute_result"
    }
   ],
   "source": [
    "#import libraries for wordcloud and string manipulation\n",
    "from wordcloud import WordCloud\n",
    "import re\n",
    "\n",
    "#converting to strings\n",
    "cust_survey['Q2'] = cust_survey['Q2'].astype(str)\n",
    "\n",
    "# Add custom stopwords to the default list of stopwords\n",
    "stopwords = set([\n",
    "    'going', 'by', 'and', 'the', 'to', 'in', 'of', 'a', 'is', 'that', 'it',\n",
    "    'with', 'my', 'some', 'small', 'an', 'you', 'mini', 'like', 'for', 'on',\n",
    "    'at', 'have', 'out', 'bedroom', \"theyre\", 's', 'around', 'how', 'this',\n",
    "    'hand', 'for', 'my', 'women', 'woman', 'womens', 'note', 'time', 'year',\n",
    "    'each', 'tv', 'me', 'star', 'frida', 'kahlo', 'georgia', 'okeefe'\n",
    "])\n",
    "\n",
    "# join the Q2 column into a single string, excluding 'nan' values\n",
    "text = \" \".join(review for review in cust_survey['Q2'] if review != 'nan')\n",
    "\n",
    "# Remove punctuations\n",
    "text = re.sub(r'[^\\w\\s]', '', text)\n",
    "\n",
    "# Convert text string to lowercase\n",
    "text = text.lower()\n",
    "\n",
    "# Remove stopwords from text\n",
    "text = \" \".join(word for word in text.split() if word not in stopwords)\n",
    "\n",
    "text"
   ]
  },
  {
   "cell_type": "markdown",
   "id": "3b8ff1f6",
   "metadata": {
    "cell_style": "center"
   },
   "source": [
    "Analysis"
   ]
  },
  {
   "cell_type": "code",
   "execution_count": 35,
   "id": "778ca00c",
   "metadata": {
    "code_folding": [
     0
    ]
   },
   "outputs": [
    {
     "data": {
      "image/png": "[encoded data removed]",
      "text/plain": [
       "<Figure size 720x360 with 1 Axes>"
      ]
     },
     "metadata": {},
     "output_type": "display_data"
    }
   ],
   "source": [
    "# Generate a word cloud image\n",
    "wordcloud = WordCloud(width=800,\n",
    "                      height=400,\n",
    "                      colormap='Paired',\n",
    "                      background_color='white',\n",
    "                     max_words=100).generate(text)\n",
    "# Display the generated image\n",
    "plt.figure(figsize=(10, 5))\n",
    "plt.imshow(wordcloud, interpolation='spline16')\n",
    "plt.axis('off')\n",
    "plt.show()"
   ]
  },
  {
   "cell_type": "code",
   "execution_count": 38,
   "id": "c4dd4796",
   "metadata": {},
   "outputs": [
    {
     "data": {
      "text/plain": [
       "Index(['week', 'fem_fict', 'biographies', 'children_lit', 'fem_zines'], dtype='object')"
      ]
     },
     "execution_count": 38,
     "metadata": {},
     "output_type": "execute_result"
    }
   ],
   "source": [
    "hist_sales.columns"
   ]
  },
  {
   "cell_type": "code",
   "execution_count": 102,
   "id": "73166864",
   "metadata": {},
   "outputs": [],
   "source": [
    "?plt.plot"
   ]
  },
  {
   "cell_type": "code",
   "execution_count": 325,
   "id": "bc87c9dc",
   "metadata": {
    "code_folding": [
     0
    ]
   },
   "outputs": [
    {
     "data": {
      "image/png": "[encoded data removed]",
      "text/plain": [
       "<Figure size 1440x360 with 1 Axes>"
      ]
     },
     "metadata": {},
     "output_type": "display_data"
    }
   ],
   "source": [
    "#style\n",
    "plt.style.use('seaborn-white')\n",
    "\n",
    "#Figure Size w=15 h=5\n",
    "plt.figure(figsize=(20, 5), facecolor='w')\n",
    "\n",
    "# Create a dictionary of old and new legend labels\n",
    "legend_labels = {\n",
    "    'fem_fict': 'Feminist Fiction',\n",
    "    'biographies': 'Biographies',\n",
    "    'children_lit': 'Children Literature',\n",
    "    'fem_zines': 'Feminist Zines'\n",
    "}\n",
    "\n",
    "#Create a color palette\n",
    "palette = plt.get_cmap('Paired')\n",
    "\n",
    "\n",
    "# Define a function to format y-axis values as dollars rounded to the nearest dollar\n",
    "def dollar_format(x, pos):\n",
    "    return f'${round(x):.0f}'\n",
    "\n",
    "\n",
    "# Plot multiple lines\n",
    "num = 0\n",
    "for column in hist_sales.drop('week', axis=1):\n",
    "    num += 1\n",
    "    plt.plot(hist_sales['week'],\n",
    "             hist_sales[column],\n",
    "             marker='o',\n",
    "             color=palette(num),\n",
    "             linewidth=2,\n",
    "             alpha=0.9,\n",
    "             label=legend_labels.get(column, column))\n",
    "        # Annotate the highest sales for each category on the plot with its total sales\n",
    "    max_val = hist_sales[column].max()\n",
    "    max_week = hist_sales.loc[hist_sales[column] == max_val, 'week'].values[0]\n",
    "    \n",
    "    plt.annotate(f' ${max_val:,.0f}',\n",
    "                 xy=(max_week, max_val),\n",
    "                 xytext=(max_week, max_val*1.1),\n",
    "                 fontsize=12,\n",
    "                 ha='center',\n",
    "                 va='bottom',\n",
    "                color = palette (num))\n",
    "     # Find the minimum value and its index for the current category\n",
    "    min_value = hist_sales[column].min()\n",
    "    min_index = hist_sales[column].idxmin()\n",
    "    # Annotate the minimum value and its week number\n",
    "    plt.annotate(f' ${min_value:.0f}',\n",
    "                 xy=(hist_sales.loc[min_index, \"week\"], min_value),\n",
    "                 xytext=(min_index,min_value),\n",
    "                 fontsize=12,\n",
    "                 ha = 'center',\n",
    "                 va = 'bottom',\n",
    "                 color = palette(num)\n",
    "                )\n",
    "\n",
    "    \n",
    "\n",
    "\n",
    "# Format y-axis as dollars\n",
    "formatter = ticker.FuncFormatter(dollar_format)\n",
    "plt.gca().yaxis.set_major_formatter(formatter)\n",
    "\n",
    "# Add legend\n",
    "# Edit legend style\n",
    "legend = plt.legend(\n",
    "    loc=2,\n",
    "    ncol=2,\n",
    "    frameon=True,\n",
    "    framealpha=1,\n",
    "    edgecolor='black',\n",
    "    fancybox=True,\n",
    "    shadow=False,\n",
    "#   \\title='Literaure Category',\n",
    "    title_fontsize=12,\n",
    ")\n",
    "\n",
    "# Add titles\n",
    "plt.title(\"\\nWeekly Sales per Genre\\n\",\n",
    "          loc='left',\n",
    "          fontsize=20,\n",
    "          fontweight='light',\n",
    "          color='black',\n",
    "         fontname = 'Times New Roman')\n",
    "plt.xlabel(\"\\nWeek\\n\",\n",
    "           fontname='Times New Roman',\n",
    "           fontsize=15,\n",
    "           fontweight='light')\n",
    "plt.ylabel(\"\\nSales \\n\",\n",
    "           fontname='Times New Roman',\n",
    "           fontsize=15,\n",
    "           fontweight='light')\n",
    "# Set font and font size for x-axis tick labels\n",
    "plt.xticks(fontname='Times New Roman', fontsize=15)\n",
    "\n",
    "# Set font and font size for y-axis tick labels\n",
    "plt.yticks(fontname='Times New Roman', fontsize=15)\n",
    "\n",
    "# Set the distance between the x-axis ticks and the chart to 10\n",
    "plt.gca().tick_params(axis='x', which='major', pad=10)\n",
    "\n",
    "# Set the distance between the y-axis ticks and the chart to 10\n",
    "plt.gca().tick_params(axis='y', which='major', pad=10)\n",
    "\n",
    "# Set x-axis tick interval to every 2 weeks\n",
    "plt.gca().xaxis.set_major_locator(ticker.MultipleLocator(2))\n",
    "plt.gca().yaxis.set_major_locator(ticker.MultipleLocator(50))\n",
    "\n",
    "# Round y-axis tick labels to the nearest dollar\n",
    "plt.gca().yaxis.set_major_formatter(ticker.StrMethodFormatter('${x:,.0f}'))\n",
    "\n",
    "# Show the graph\n",
    "plt.show()"
   ]
  },
  {
   "cell_type": "code",
   "execution_count": 324,
   "id": "54a58e04",
   "metadata": {},
   "outputs": [],
   "source": [
    "?plt.subplots"
   ]
  }
 ],
 "metadata": {
  "kernelspec": {
   "display_name": "Python 3 (ipykernel)",
   "language": "python",
   "name": "python3"
  },
  "language_info": {
   "codemirror_mode": {
    "name": "ipython",
    "version": 3
   },
   "file_extension": ".py",
   "mimetype": "text/x-python",
   "name": "python",
   "nbconvert_exporter": "python",
   "pygments_lexer": "ipython3",
   "version": "3.8.8"
  },
  "toc": {
   "base_numbering": 1,
   "nav_menu": {},
   "number_sections": true,
   "sideBar": true,
   "skip_h1_title": false,
   "title_cell": "Table of Contents",
   "title_sidebar": "Contents",
   "toc_cell": false,
   "toc_position": {},
   "toc_section_display": true,
   "toc_window_display": false
  },
  "varInspector": {
   "cols": {
    "lenName": 16,
    "lenType": 16,
    "lenVar": 40
   },
   "kernels_config": {
    "python": {
     "delete_cmd_postfix": "",
     "delete_cmd_prefix": "del ",
     "library": "var_list.py",
     "varRefreshCmd": "print(var_dic_list())"
    },
    "r": {
     "delete_cmd_postfix": ") ",
     "delete_cmd_prefix": "rm(",
     "library": "var_list.r",
     "varRefreshCmd": "cat(var_dic_list()) "
    }
   },
   "oldHeight": 268.645878,
   "position": {
    "height": "40px",
    "left": "1215.47px",
    "right": "20px",
    "top": "137.979px",
    "width": "353.771px"
   },
   "types_to_exclude": [
    "module",
    "function",
    "builtin_function_or_method",
    "instance",
    "_Feature"
   ],
   "varInspector_section_display": "none",
   "window_display": true
  }
 },
 "nbformat": 4,
 "nbformat_minor": 5
}
